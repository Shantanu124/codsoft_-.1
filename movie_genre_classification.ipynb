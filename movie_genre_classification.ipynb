{
 "cells": [
  {
   "cell_type": "code",
   "execution_count": null,
   "metadata": {},
   "outputs": [],
   "source": [
    "import pandas as pd\n",
    "import numpy as np\n",
    "import matplotlib.pyplot as plt\n",
    "import seaborn as sns\n",
    "import re\n",
    "import nltk\n",
    "nltk.download('stopwords')\n",
    "nltk.download('punkt')\n",
    "import string\n",
    "from nltk.corpus import stopwords\n",
    "from nltk.stem import LancasterStemmer\n",
    "from sklearn.feature_extraction.text import TfidfVectorizer\n",
    "from sklearn.model_selection import train_test_split\n",
    "from sklearn.naive_bayes import MultinomialNB\n",
    "from sklearn.linear_model import LogisticRegression\n",
    "from sklearn.svm import SVC \n",
    "from sklearn.metrics import accuracy_score, classification_report"
   ]
  },
  {
   "cell_type": "code",
   "execution_count": null,
   "metadata": {},
   "outputs": [],
   "source": [
    "df = pd.read_csv(r'...\\imdb_movie_dataset.csv')#enter the path of the dataset athe place of ...\n",
    "df = pd.DataFrame(df[[\"Title\", \"Genre\", \"Description\"]])\n",
    "print(df.isnull().sum())\n",
    "df.head()"
   ]
  },
  {
   "cell_type": "code",
   "execution_count": null,
   "metadata": {},
   "outputs": [],
   "source": [
    "all_genres = []\n",
    "for index in df.index:\n",
    "    genres_list = df.loc[index, \"Genre\"].replace(\" \", \"\").split(\",\")\n",
    "    for genre in genres_list:\n",
    "        all_genres.append(genre)\n",
    "genre_counts = pd.Series(all_genres).value_counts().to_dict()\n",
    "genre_counts\n"
   ]
  },
  {
   "cell_type": "code",
   "execution_count": null,
   "metadata": {},
   "outputs": [],
   "source": [
    "plt.figure(figsize=(14, 7)) \n",
    "sns.countplot(data=df, y='Genre', order=df['Genre'].value_counts().index, palette='viridis') \n",
    "plt.xlabel('Count', fontsize=14, fontweight='bold') \n",
    "plt.ylabel('Genre', fontsize=14, fontweight='bold') \n",
    "plt.tight_layout()\n",
    "plt.show()\n",
    "plt.figure(figsize=(10, 6))\n",
    "plt.bar(genre_counts.keys(), genre_counts.values())\n",
    "plt.xlabel(\"Genre\")\n",
    "plt.ylabel(\"Frequency\")\n",
    "plt.title(\"Genre Frequencies\")\n",
    "plt.xticks(rotation=45, ha='right')\n",
    "plt.tight_layout()\n",
    "plt.show()"
   ]
  },
  {
   "cell_type": "code",
   "execution_count": null,
   "metadata": {},
   "outputs": [],
   "source": [
    "df.shape\n"
   ]
  },
  {
   "cell_type": "code",
   "execution_count": null,
   "metadata": {},
   "outputs": [],
   "source": [
    "df.describe()"
   ]
  },
  {
   "cell_type": "code",
   "execution_count": null,
   "metadata": {},
   "outputs": [],
   "source": [
    "df.info()"
   ]
  },
  {
   "cell_type": "code",
   "execution_count": null,
   "metadata": {},
   "outputs": [],
   "source": [
    "print(df.isnull().sum())\n"
   ]
  },
  {
   "cell_type": "code",
   "execution_count": null,
   "metadata": {},
   "outputs": [],
   "source": [
    "stemmer = LancasterStemmer()\n",
    "stop_words = set(stopwords.words('english'))\n",
    "type(df)\n",
    "test_data = pd.DataFrame({'Description'})\n",
    "df['Text_Cleaning'] =(df['Description'])\n",
    "df['Text_Cleaning'] = df['Text_Cleaning'].apply(str)\n",
    "df"
   ]
  },
  {
   "cell_type": "code",
   "execution_count": null,
   "metadata": {},
   "outputs": [],
   "source": [
    "x = df['Text_Cleaning']\n",
    "y = df['Genre']\n",
    "xtrain, xtest, ytrain, ytest = train_test_split(x, y, test_size=0.2, random_state=42)"
   ]
  },
  {
   "cell_type": "code",
   "execution_count": null,
   "metadata": {},
   "outputs": [],
   "source": [
    "df['length_Text_cleaning'] = len(xtrain)\n",
    "plt.figure(figsize=(8, 7))\n",
    "sns.histplot(data=df, x='length_Text_cleaning', bins=20, kde=True, color='blue')\n",
    "plt.xlabel('Length', fontsize=14, fontweight='bold')\n",
    "plt.ylabel('Frequency', fontsize=14, fontweight='bold')\n",
    "plt.title('Distribution of Lengths', fontsize=16, fontweight='bold')\n",
    "plt.show()"
   ]
  },
  {
   "cell_type": "code",
   "execution_count": null,
   "metadata": {},
   "outputs": [],
   "source": [
    "print(xtrain.tolist())"
   ]
  },
  {
   "cell_type": "code",
   "execution_count": null,
   "metadata": {},
   "outputs": [],
   "source": [
    "from collections import Counter\n",
    "def create_features(text_data, all_words=None):\n",
    "    if not isinstance(text_data, list):\n",
    "        text_data = text_data.tolist()\n",
    "    if all_words is None:\n",
    "        all_words = set()\n",
    "        for text in text_data:\n",
    "            if isinstance(text, str):\n",
    "                words = text.split()\n",
    "                all_words.update(words)\n",
    "    else:\n",
    "        all_words = set(all_words)\n",
    "    word_counts = {}\n",
    "    for i, text in enumerate(text_data):\n",
    "        if isinstance(text, str):\n",
    "            words = text.split()\n",
    "            word_counts[i] = Counter(words)\n",
    "    features_df = pd.DataFrame.from_dict(word_counts, orient='index').fillna(0)\n",
    "    features_df = features_df.reindex(columns=list(all_words), fill_value=0)\n",
    "    return features_df\n",
    "x = df['Text_Cleaning']\n",
    "y = df['Genre']\n",
    "xtrain, xtest, ytrain, ytest = train_test_split(x, y, test_size=0.2, random_state=42)\n",
    "all_words_in_dataset = set()\n",
    "for text in x:\n",
    "    if isinstance(text, str):\n",
    "        all_words_in_dataset.update(text.split())\n",
    "X_train = create_features(xtrain.tolist(), all_words=all_words_in_dataset)\n",
    "X_test = create_features(xtest.tolist(), all_words=all_words_in_dataset)\n",
    "print(X_train)\n",
    "print(X_test)"
   ]
  },
  {
   "cell_type": "code",
   "execution_count": null,
   "metadata": {},
   "outputs": [],
   "source": [
    "classifier = MultinomialNB()\n",
    "classifier.fit(X_train, ytrain)\n",
    "classifier2=LogisticRegression()\n",
    "classifier2.fit(X_train, ytrain)\n",
    "classifier3=SVC()\n",
    "classifier3.fit(X_train, ytrain)\n",
    "\n",
    "y_pred = classifier.predict(X_test)\n",
    "y_pred2 = classifier2.predict(X_test)\n",
    "y_pred3 = classifier3.predict(X_test)\n",
    "\n",
    "accuracy = accuracy_score(ytest, y_pred)*100\n",
    "accuracy2 = accuracy_score(ytest, y_pred2)*100\n",
    "accuracy3 = accuracy_score(ytest, y_pred3)*100\n",
    "\n",
    "print(\"Validation Accuracy:\", accuracy,\"%\") \n",
    "print(classification_report(ytest, y_pred))\n",
    "print(\"Validation Accuracy2:\", accuracy2,\"%\")\n",
    "print(classification_report(ytest, y_pred2))\n",
    "print(\"Validation Accuracy3:\", accuracy3,\"%\")\n",
    "print(classification_report(ytest, y_pred3))"
   ]
  },
  {
   "cell_type": "code",
   "execution_count": null,
   "metadata": {},
   "outputs": [],
   "source": [
    "numeric_df = df.select_dtypes(include=np.number)\n",
    "correlation_matrix = numeric_df.corr()\n",
    "sns.heatmap(correlation_matrix, annot=True, cmap='coolwarm', linewidths=0.5) \n",
    "plt.title('Correlation Matrix', fontsize=16, fontweight='bold') \n",
    "plt.show()"
   ]
  },
  {
   "cell_type": "code",
   "execution_count": null,
   "metadata": {},
   "outputs": [],
   "source": [
    "test_data = pd.DataFrame({'Description': []}) \n",
    "X_test_predictions = classifier.predict(X_test) \n",
    "test_data['Predicted_Genre'] = X_test_predictions"
   ]
  },
  {
   "cell_type": "code",
   "execution_count": null,
   "metadata": {},
   "outputs": [],
   "source": [
    "test_data.to_csv('predicted_genres.csv', index=False)\n",
    "print(test_data)"
   ]
  }
 ],
 "metadata": {
  "kernelspec": {
   "display_name": "Python 3",
   "language": "python",
   "name": "python3"
  },
  "language_info": {
   "codemirror_mode": {
    "name": "ipython",
    "version": 3
   },
   "file_extension": ".py",
   "mimetype": "text/x-python",
   "name": "python",
   "nbconvert_exporter": "python",
   "pygments_lexer": "ipython3",
   "version": "3.12.7"
  }
 },
 "nbformat": 4,
 "nbformat_minor": 2
}
